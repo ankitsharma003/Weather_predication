{
  "nbformat": 4,
  "nbformat_minor": 0,
  "metadata": {
    "colab": {
      "provenance": [],
      "authorship_tag": "ABX9TyMe5BsILgiYfA0YixPbnYk6",
      "include_colab_link": true
    },
    "kernelspec": {
      "name": "python3",
      "display_name": "Python 3"
    },
    "language_info": {
      "name": "python"
    }
  },
  "cells": [
    {
      "cell_type": "markdown",
      "metadata": {
        "id": "view-in-github",
        "colab_type": "text"
      },
      "source": [
        "<a href=\"https://colab.research.google.com/github/ankitsharma003/Weather_predication/blob/main/Weather_predication.ipynb\" target=\"_parent\"><img src=\"https://colab.research.google.com/assets/colab-badge.svg\" alt=\"Open In Colab\"/></a>"
      ]
    },
    {
      "cell_type": "markdown",
      "source": [
        "**Import Libraries**"
      ],
      "metadata": {
        "id": "bLv_JGakr2zg"
      }
    },
    {
      "cell_type": "code",
      "execution_count": 1,
      "metadata": {
        "id": "H3D8lcWCrrCv"
      },
      "outputs": [],
      "source": [
        "import pandas as pd # for handling and analysing the data\n",
        "import numpy as np # for numerical operations\n",
        "from sklearn.model_selection import train_test_split # split data into training and testing sets\n",
        "from sklearn.preprocessing import LabelEncoder #to convert catogrical data into numerical values\n",
        "from sklearn.ensemble import RandomForestClassifier, RandomForestRegressor # models for classification and regression tast\n",
        "from sklearn.metrics import mean_squared_error # to measure accurecy\n",
        "from datetime import datetime,timedelta # to handle date and time\n",
        "import pytz\n",
        "import requests"
      ]
    },
    {
      "cell_type": "code",
      "source": [
        "API_KEY= \"API KEY\"\n",
        "BASE_URL= \"BASE URI\""
      ],
      "metadata": {
        "id": "9K45f7GzvbSY"
      },
      "execution_count": 2,
      "outputs": []
    },
    {
      "cell_type": "markdown",
      "source": [
        "1. Fetch current data"
      ],
      "metadata": {
        "id": "RrqTXbaqxYRu"
      }
    },
    {
      "cell_type": "code",
      "source": [
        "import requests\n",
        "\n",
        "def current_weather(city):\n",
        "    try:\n",
        "        url = f\"{BASE_URL}?q={city}&appid={API_KEY}&units=metric\"\n",
        "\n",
        "        response = requests.get(url)\n",
        "        data = response.json()\n",
        "\n",
        "        if data.get(\"cod\") != 200:\n",
        "            print(\"DEBUG: API Error:\", data.get(\"message\"))\n",
        "            return None\n",
        "\n",
        "        return {\n",
        "            'current_temp': data['main']['temp'],\n",
        "            'feels_like': data['main']['feels_like'],\n",
        "            'temp_min': data['main']['temp_min'],\n",
        "            'temp_max': data['main']['temp_max'],\n",
        "            'Pressure': data['main']['pressure'],\n",
        "            'humidity': data['main']['humidity'],\n",
        "            'Visibility': data.get('visibility', 10000),\n",
        "            'windSpeed': data['wind']['speed'],\n",
        "            'windDir': data['wind'].get('deg', 0),\n",
        "            'windGust': data['wind'].get('gust', 0),\n",
        "            'description': data['weather'][0]['description'],\n",
        "            'country': data['sys']['country'],\n",
        "        }\n",
        "\n",
        "    except Exception as e:\n",
        "        print(\"DEBUG: Exception in API call:\", str(e))\n",
        "        return None\n"
      ],
      "metadata": {
        "id": "mLZmhYdOxdyi"
      },
      "execution_count": 3,
      "outputs": []
    },
    {
      "cell_type": "markdown",
      "source": [
        "2. Read historical data"
      ],
      "metadata": {
        "id": "8953slnX0dz0"
      }
    },
    {
      "cell_type": "code",
      "source": [
        "def read_historical_data(filename):\n",
        "  df =pd.read_csv(filename)\n",
        "  df = df.dropna() # drop with mising data\n",
        "  df = df.drop_duplicates()\n",
        "  return df"
      ],
      "metadata": {
        "id": "FT449U0O0hF0"
      },
      "execution_count": 4,
      "outputs": []
    },
    {
      "cell_type": "markdown",
      "source": [
        "3. prepare data for training"
      ],
      "metadata": {
        "id": "7-JL3Apu2tHa"
      }
    },
    {
      "cell_type": "code",
      "source": [
        "def prepare_data(data):\n",
        "    features = ['mintempC', 'maxtempC', 'FeelsLikeC', 'WindGustKmph',\n",
        "                'humidity', 'pressure', 'tempC', 'visibility',\n",
        "                'winddirDegree', 'windspeedKmph']\n",
        "    X = data[features]\n",
        "    Y = (data['precipMM'] > 0).astype(int)  # Convert to binary classification label\n",
        "    return X, Y, None\n"
      ],
      "metadata": {
        "id": "ChIjuYBd2xZA"
      },
      "execution_count": 5,
      "outputs": []
    },
    {
      "cell_type": "markdown",
      "source": [
        "4.Train a model"
      ],
      "metadata": {
        "id": "DTDsP-pE83Xi"
      }
    },
    {
      "cell_type": "code",
      "source": [
        "def train_rain_mode(X, Y):\n",
        "    X_train, X_test, Y_train, Y_test = train_test_split(X, Y, test_size=0.20, random_state=42)\n",
        "    model = RandomForestClassifier(n_estimators=100, random_state=42)\n",
        "    model.fit(X_train, Y_train)\n",
        "    Y_pred = model.predict(X_test)\n",
        "    print(\"Mean Squared Error for Rain Model:\", mean_squared_error(Y_test, Y_pred))\n",
        "    return model"
      ],
      "metadata": {
        "id": "TfNw0Wjs85xV"
      },
      "execution_count": 6,
      "outputs": []
    },
    {
      "cell_type": "markdown",
      "source": [
        "5. prepare regrassion data"
      ],
      "metadata": {
        "id": "0-NGalcm-dQI"
      }
    },
    {
      "cell_type": "code",
      "source": [
        "def prepare_regrassion_data(data, feature):\n",
        "    X, Y = [], []\n",
        "    for i in range(len(data)-1):\n",
        "        X.append(data[feature].iloc[i])\n",
        "        Y.append(data[feature].iloc[i+1])\n",
        "    X = np.array(X).reshape(-1, 1)\n",
        "    Y = np.array(Y)\n",
        "    return X, Y"
      ],
      "metadata": {
        "id": "Pnd9FTkZ-hHM"
      },
      "execution_count": 7,
      "outputs": []
    },
    {
      "cell_type": "markdown",
      "source": [
        "6.train regression data"
      ],
      "metadata": {
        "id": "auJCRMnT_q2w"
      }
    },
    {
      "cell_type": "code",
      "source": [
        "def train_regression_model(X, Y):\n",
        "    model = RandomForestRegressor(n_estimators=100, random_state=42)\n",
        "    model.fit(X, Y)\n",
        "    return model"
      ],
      "metadata": {
        "id": "fl2N_ub-_vn7"
      },
      "execution_count": 8,
      "outputs": []
    },
    {
      "cell_type": "markdown",
      "source": [
        "7.Predict Future"
      ],
      "metadata": {
        "id": "eRvAS1glAMCd"
      }
    },
    {
      "cell_type": "code",
      "source": [
        "def Predict_Future(model, current_value):\n",
        "    values = [current_value]\n",
        "    for _ in range(4):\n",
        "        next_val = model.predict(np.array(values[-1]).reshape(-1, 1))[0]\n",
        "        values.append(next_val)\n",
        "    return values"
      ],
      "metadata": {
        "id": "TRqn7ZAkAHar"
      },
      "execution_count": 9,
      "outputs": []
    },
    {
      "cell_type": "markdown",
      "source": [
        "8. **weather analysis**"
      ],
      "metadata": {
        "id": "GHi77al0EvZj"
      }
    },
    {
      "cell_type": "code",
      "source": [
        "def weather_view():\n",
        "    city = input(\"Enter city name: \")\n",
        "    current_weather_info = current_weather(city)\n",
        "\n",
        "    if current_weather_info is None:\n",
        "        print(\"Weather info could not be retrieved. Please check the city name or API key.\")\n",
        "        return\n",
        "\n",
        "    historical_data = read_historical_data(\"/content/jaipur.csv\")\n",
        "\n",
        "    # Prepare data for rain prediction\n",
        "    X, Y, Le = prepare_data(historical_data)\n",
        "    rain_model = train_rain_mode(X, Y)\n",
        "\n",
        "    current_data = {\n",
        "        'mintempC': current_weather_info['temp_min'],\n",
        "        'maxtempC': current_weather_info['temp_max'],\n",
        "        'FeelsLikeC': current_weather_info['feels_like'],\n",
        "        'WindGustKmph': current_weather_info['windGust'],\n",
        "        'humidity': current_weather_info['humidity'],\n",
        "        'pressure': current_weather_info['Pressure'],\n",
        "        'tempC': current_weather_info['current_temp'],\n",
        "        'visibility': current_weather_info['Visibility'],\n",
        "        'winddirDegree': current_weather_info['windDir'],\n",
        "        'windspeedKmph': current_weather_info['windSpeed'],\n",
        "    }\n",
        "\n",
        "    current_df = pd.DataFrame([current_data])\n",
        "    rain_proba = rain_model.predict_proba(current_df)[0]\n",
        "    rain_prediction = int(rain_proba[1] >= 0.5)\n",
        "    confidence = round(rain_proba[1] * 100, 1) if rain_prediction else round(rain_proba[0] * 100, 1)\n",
        "\n",
        "    # Prepare temperature and humidity prediction\n",
        "    X_temp, Y_temp = prepare_regrassion_data(historical_data, 'tempC')\n",
        "    X_hum, Y_hum = prepare_regrassion_data(historical_data, 'humidity')\n",
        "\n",
        "    temp_model = train_regression_model(X_temp, Y_temp)\n",
        "    hum_model = train_regression_model(X_hum, Y_hum)\n",
        "\n",
        "    future_temp = Predict_Future(temp_model, current_data['mintempC'])\n",
        "    future_hum = Predict_Future(hum_model, current_data['humidity'])\n",
        "\n",
        "    # Display results\n",
        "    timeZone = pytz.timezone('Asia/Kolkata')\n",
        "    now = datetime.now(timeZone)\n",
        "    next_day = now.replace(hour=0, minute=0, second=0, microsecond=0) + timedelta(days=1)\n",
        "    future_days = [next_day + timedelta(days=i) for i in range(5)]\n",
        "\n",
        "    print(f\"\\nCity: {city}, {current_weather_info['country']}\")\n",
        "    print(f\"Current temperature: {current_weather_info['current_temp']}°C\")\n",
        "    print(f\"Feels like: {current_weather_info['feels_like']}°C\")\n",
        "    print(f\"Minimum temperature: {current_weather_info['temp_min']}°C\")\n",
        "    print(f\"Maximum temperature: {current_weather_info['temp_max']}°C\")\n",
        "    print(f\"Humidity: {current_weather_info['humidity']}%\")\n",
        "    print(f\"Weather description: {current_weather_info['description']}\")\n",
        "    print(f\"Rain prediction: {'Yes' if rain_prediction else 'No'} (Confidence: {confidence}%)\")\n",
        "\n",
        "    print(\"\\n📅 Future Temperature Predictions:\")\n",
        "    for day, temp in zip(future_days, future_temp):\n",
        "        print(f\"{day.strftime('%d-%m-%Y')}: {round(temp, 1)}°C\")\n",
        "\n",
        "    print(\"\\n💧 Future Humidity Predictions:\")\n",
        "    for day, hum in zip(future_days, future_hum):\n",
        "        print(f\"{day.strftime('%d-%m-%Y')}: {round(hum, 1)}%\")\n",
        "\n",
        "# Run the program\n",
        "weather_view()"
      ],
      "metadata": {
        "colab": {
          "base_uri": "https://localhost:8080/",
          "height": 0
        },
        "id": "gBw0lGeTE4im",
        "outputId": "7fd10e21-19e3-4bb6-cb95-c109a051a2fb"
      },
      "execution_count": 10,
      "outputs": [
        {
          "output_type": "stream",
          "name": "stdout",
          "text": [
            "Enter city name: jaipur\n",
            "Mean Squared Error for Rain Model: 0.024213200601441387\n",
            "\n",
            "City: jaipur, IN\n",
            "Current temperature: 26.62°C\n",
            "Feels like: 26.62°C\n",
            "Minimum temperature: 26.62°C\n",
            "Maximum temperature: 26.62°C\n",
            "Humidity: 89%\n",
            "Weather description: mist\n",
            "Rain prediction: No (Confidence: 88.0%)\n",
            "\n",
            "📅 Future Temperature Predictions:\n",
            "30-07-2025: 26.6°C\n",
            "31-07-2025: 27.0°C\n",
            "01-08-2025: 27.0°C\n",
            "02-08-2025: 27.0°C\n",
            "03-08-2025: 27.0°C\n",
            "\n",
            "💧 Future Humidity Predictions:\n",
            "30-07-2025: 89%\n",
            "31-07-2025: 88.6%\n",
            "01-08-2025: 88.6%\n",
            "02-08-2025: 88.6%\n",
            "03-08-2025: 88.6%\n"
          ]
        }
      ]
    },
    {
      "cell_type": "code",
      "source": [],
      "metadata": {
        "id": "N_e2i7FZRfss"
      },
      "execution_count": null,
      "outputs": []
    }
  ]
}